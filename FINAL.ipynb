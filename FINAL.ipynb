{
 "cells": [
  {
   "cell_type": "code",
   "execution_count": 50,
   "id": "speaking-serum",
   "metadata": {},
   "outputs": [],
   "source": [
    "import requests\n",
    "import base64\n",
    "import six\n",
    "import json\n",
    "import pandas as pd"
   ]
  },
  {
   "cell_type": "code",
   "execution_count": 51,
   "id": "blocked-terrorism",
   "metadata": {},
   "outputs": [],
   "source": [
    "tokens = pd.read_csv('Spotify_Keys.txt', sep = '\\t', header = None).T\n",
    "tokens.columns = tokens.iloc[0]\n",
    "tokens = tokens[1:]\n",
    "#tokens.Client_Secret[1]"
   ]
  },
  {
   "cell_type": "code",
   "execution_count": 52,
   "id": "embedded-reducing",
   "metadata": {},
   "outputs": [],
   "source": [
    "def start_session_headers(client_id, client_secret):\n",
    "    client_cred = base64.b64encode(six.text_type(client_id + \":\" + client_secret).encode(\"ascii\"))\n",
    "    headers = {\"Authorization\": \"Basic %s\" % client_cred.decode(\"ascii\")}\n",
    "    return headers\n",
    "\n",
    "#print(start_session_headers(tokens.Client_ID[1], tokens.Client_Secret[1]))"
   ]
  },
  {
   "cell_type": "code",
   "execution_count": 53,
   "id": "quiet-driver",
   "metadata": {},
   "outputs": [],
   "source": [
    "def connect_to_client_cred(url, headers):\n",
    "    payload = {'grant_type' : 'client_credentials'}\n",
    "    response = requests.request(\"POST\", url, headers = headers, data = payload)\n",
    "    print(response.status_code)\n",
    "    if response.status_code != 200:\n",
    "        raise Exception(response.status_code, response.text)\n",
    "    return response.json()"
   ]
  },
  {
   "cell_type": "code",
   "execution_count": 54,
   "id": "prospective-northern",
   "metadata": {},
   "outputs": [],
   "source": [
    "def get_access_token():\n",
    "    #Uses the Client Credentials flow, no access to endpoints with user data\n",
    "    url = \"https://accounts.spotify.com/api/token\"\n",
    "    header = start_session_headers(tokens.Client_ID[1], tokens.Client_Secret[1])\n",
    "    json_response = connect_to_client_cred(url, header)\n",
    "\n",
    "    #return json.dumps(json_response, indent = 4, sort_keys = True)\n",
    "    return json_response"
   ]
  },
  {
   "cell_type": "code",
   "execution_count": 55,
   "id": "encouraging-vinyl",
   "metadata": {},
   "outputs": [
    {
     "name": "stdout",
     "output_type": "stream",
     "text": [
      "200\n"
     ]
    }
   ],
   "source": [
    "session_token = get_access_token()"
   ]
  },
  {
   "cell_type": "code",
   "execution_count": 56,
   "id": "three-singer",
   "metadata": {},
   "outputs": [],
   "source": [
    "#session_token"
   ]
  },
  {
   "cell_type": "code",
   "execution_count": 57,
   "id": "graphic-cargo",
   "metadata": {},
   "outputs": [],
   "source": [
    "#session_token['access_token']"
   ]
  },
  {
   "cell_type": "code",
   "execution_count": 58,
   "id": "crucial-zealand",
   "metadata": {},
   "outputs": [],
   "source": [
    "def create_header(session_token):\n",
    "    headers = {\"Authorization\": \"Bearer {}\".format(session_token)}\n",
    "    return headers\n",
    "\n",
    "#create_header(session_token['access_token'])"
   ]
  },
  {
   "cell_type": "code",
   "execution_count": 59,
   "id": "exact-stockholm",
   "metadata": {},
   "outputs": [],
   "source": [
    "def connect_to_endpoint(url, headers):\n",
    "    response =requests.request(\"GET\", url, headers = headers)\n",
    "    print(response.status_code)\n",
    "    if response.status_code != 200:\n",
    "        raise Exception(response.status_code, response.text)\n",
    "    return response.json()"
   ]
  },
  {
   "cell_type": "code",
   "execution_count": 69,
   "id": "offensive-affect",
   "metadata": {},
   "outputs": [],
   "source": [
    "def track_audio_features(id):\n",
    "    url = 'https://api.spotify.com/v1/audio-features/{}'.format(id)\n",
    "    header = create_header(session_token['access_token'])\n",
    "    json_response = connect_to_endpoint(url, header)\n",
    "    return json_response"
   ]
  },
  {
   "cell_type": "code",
   "execution_count": 76,
   "id": "located-commander",
   "metadata": {},
   "outputs": [],
   "source": [
    "def get_an_album(id):\n",
    "    url = 'https://api.spotify.com/v1/albums/{}'.format(id)\n",
    "    header = create_header(session_token['access_token'])\n",
    "    json_response = connect_to_endpoint(url, header)\n",
    "    return json_response"
   ]
  },
  {
   "cell_type": "markdown",
   "id": "signed-texture",
   "metadata": {},
   "source": []
  },
  {
   "cell_type": "markdown",
   "id": "quiet-extraction",
   "metadata": {},
   "source": [
    "# GLASS ANIMALS - How To be A Human Being"
   ]
  },
  {
   "cell_type": "code",
   "execution_count": 85,
   "id": "aggregate-definition",
   "metadata": {},
   "outputs": [
    {
     "name": "stdout",
     "output_type": "stream",
     "text": [
      "200\n"
     ]
    }
   ],
   "source": [
    "album = get_an_album('6qb9MDR0lfsN9a2pw77uJy')"
   ]
  },
  {
   "cell_type": "code",
   "execution_count": 86,
   "id": "historic-italic",
   "metadata": {},
   "outputs": [],
   "source": [
    "#album"
   ]
  },
  {
   "cell_type": "code",
   "execution_count": 87,
   "id": "functioning-international",
   "metadata": {},
   "outputs": [
    {
     "data": {
      "text/plain": [
       "dict_keys(['album_type', 'artists', 'available_markets', 'copyrights', 'external_ids', 'external_urls', 'genres', 'href', 'id', 'images', 'label', 'name', 'popularity', 'release_date', 'release_date_precision', 'total_tracks', 'tracks', 'type', 'uri'])"
      ]
     },
     "execution_count": 87,
     "metadata": {},
     "output_type": "execute_result"
    }
   ],
   "source": [
    "album.keys()"
   ]
  },
  {
   "cell_type": "code",
   "execution_count": 88,
   "id": "labeled-florist",
   "metadata": {},
   "outputs": [
    {
     "data": {
      "text/plain": [
       "'32zkKx35Et6A515oZKxDkD'"
      ]
     },
     "execution_count": 88,
     "metadata": {},
     "output_type": "execute_result"
    }
   ],
   "source": [
    "album['tracks']['items'][0]['id']"
   ]
  },
  {
   "cell_type": "code",
   "execution_count": 89,
   "id": "herbal-peeing",
   "metadata": {},
   "outputs": [
    {
     "name": "stdout",
     "output_type": "stream",
     "text": [
      "200\n",
      "200\n",
      "200\n",
      "200\n",
      "200\n",
      "200\n",
      "200\n",
      "200\n",
      "200\n",
      "200\n",
      "200\n"
     ]
    }
   ],
   "source": [
    "audio_features = [track_audio_features(x['id']) for x in album['tracks']['items']]"
   ]
  },
  {
   "cell_type": "code",
   "execution_count": 90,
   "id": "variable-showcase",
   "metadata": {},
   "outputs": [],
   "source": [
    "#audio_features"
   ]
  },
  {
   "cell_type": "code",
   "execution_count": 91,
   "id": "consolidated-asbestos",
   "metadata": {},
   "outputs": [
    {
     "data": {
      "text/html": [
       "<div>\n",
       "<style scoped>\n",
       "    .dataframe tbody tr th:only-of-type {\n",
       "        vertical-align: middle;\n",
       "    }\n",
       "\n",
       "    .dataframe tbody tr th {\n",
       "        vertical-align: top;\n",
       "    }\n",
       "\n",
       "    .dataframe thead th {\n",
       "        text-align: right;\n",
       "    }\n",
       "</style>\n",
       "<table border=\"1\" class=\"dataframe\">\n",
       "  <thead>\n",
       "    <tr style=\"text-align: right;\">\n",
       "      <th></th>\n",
       "      <th>danceability</th>\n",
       "      <th>energy</th>\n",
       "      <th>key</th>\n",
       "      <th>loudness</th>\n",
       "      <th>mode</th>\n",
       "      <th>speechiness</th>\n",
       "      <th>acousticness</th>\n",
       "      <th>instrumentalness</th>\n",
       "      <th>liveness</th>\n",
       "      <th>valence</th>\n",
       "      <th>tempo</th>\n",
       "      <th>type</th>\n",
       "      <th>id</th>\n",
       "      <th>uri</th>\n",
       "      <th>track_href</th>\n",
       "      <th>analysis_url</th>\n",
       "      <th>duration_ms</th>\n",
       "      <th>time_signature</th>\n",
       "    </tr>\n",
       "  </thead>\n",
       "  <tbody>\n",
       "    <tr>\n",
       "      <th>0</th>\n",
       "      <td>0.699</td>\n",
       "      <td>0.670</td>\n",
       "      <td>1</td>\n",
       "      <td>-6.219</td>\n",
       "      <td>1</td>\n",
       "      <td>0.0347</td>\n",
       "      <td>0.0147</td>\n",
       "      <td>0.220000</td>\n",
       "      <td>0.356</td>\n",
       "      <td>0.556</td>\n",
       "      <td>111.988</td>\n",
       "      <td>audio_features</td>\n",
       "      <td>32zkKx35Et6A515oZKxDkD</td>\n",
       "      <td>spotify:track:32zkKx35Et6A515oZKxDkD</td>\n",
       "      <td>https://api.spotify.com/v1/tracks/32zkKx35Et6A...</td>\n",
       "      <td>https://api.spotify.com/v1/audio-analysis/32zk...</td>\n",
       "      <td>281407</td>\n",
       "      <td>4</td>\n",
       "    </tr>\n",
       "    <tr>\n",
       "      <th>1</th>\n",
       "      <td>0.648</td>\n",
       "      <td>0.718</td>\n",
       "      <td>9</td>\n",
       "      <td>-7.765</td>\n",
       "      <td>0</td>\n",
       "      <td>0.0298</td>\n",
       "      <td>0.1290</td>\n",
       "      <td>0.001560</td>\n",
       "      <td>0.112</td>\n",
       "      <td>0.785</td>\n",
       "      <td>96.017</td>\n",
       "      <td>audio_features</td>\n",
       "      <td>1LPGwuFgIzbJoShfDdw7MY</td>\n",
       "      <td>spotify:track:1LPGwuFgIzbJoShfDdw7MY</td>\n",
       "      <td>https://api.spotify.com/v1/tracks/1LPGwuFgIzbJ...</td>\n",
       "      <td>https://api.spotify.com/v1/audio-analysis/1LPG...</td>\n",
       "      <td>230693</td>\n",
       "      <td>4</td>\n",
       "    </tr>\n",
       "    <tr>\n",
       "      <th>2</th>\n",
       "      <td>0.742</td>\n",
       "      <td>0.289</td>\n",
       "      <td>5</td>\n",
       "      <td>-7.833</td>\n",
       "      <td>0</td>\n",
       "      <td>0.1150</td>\n",
       "      <td>0.5430</td>\n",
       "      <td>0.000046</td>\n",
       "      <td>0.228</td>\n",
       "      <td>0.710</td>\n",
       "      <td>147.986</td>\n",
       "      <td>audio_features</td>\n",
       "      <td>4vcoNCrTtunmJ9q8srpVly</td>\n",
       "      <td>spotify:track:4vcoNCrTtunmJ9q8srpVly</td>\n",
       "      <td>https://api.spotify.com/v1/tracks/4vcoNCrTtunm...</td>\n",
       "      <td>https://api.spotify.com/v1/audio-analysis/4vco...</td>\n",
       "      <td>243509</td>\n",
       "      <td>4</td>\n",
       "    </tr>\n",
       "    <tr>\n",
       "      <th>3</th>\n",
       "      <td>0.698</td>\n",
       "      <td>0.664</td>\n",
       "      <td>7</td>\n",
       "      <td>-7.828</td>\n",
       "      <td>1</td>\n",
       "      <td>0.0778</td>\n",
       "      <td>0.1210</td>\n",
       "      <td>0.001310</td>\n",
       "      <td>0.331</td>\n",
       "      <td>0.623</td>\n",
       "      <td>96.001</td>\n",
       "      <td>audio_features</td>\n",
       "      <td>5C5gvDZsl6d8bh89URfKHr</td>\n",
       "      <td>spotify:track:5C5gvDZsl6d8bh89URfKHr</td>\n",
       "      <td>https://api.spotify.com/v1/tracks/5C5gvDZsl6d8...</td>\n",
       "      <td>https://api.spotify.com/v1/audio-analysis/5C5g...</td>\n",
       "      <td>253831</td>\n",
       "      <td>4</td>\n",
       "    </tr>\n",
       "    <tr>\n",
       "      <th>4</th>\n",
       "      <td>0.460</td>\n",
       "      <td>0.314</td>\n",
       "      <td>6</td>\n",
       "      <td>-10.158</td>\n",
       "      <td>0</td>\n",
       "      <td>0.0267</td>\n",
       "      <td>0.6990</td>\n",
       "      <td>0.000004</td>\n",
       "      <td>0.122</td>\n",
       "      <td>0.216</td>\n",
       "      <td>90.014</td>\n",
       "      <td>audio_features</td>\n",
       "      <td>5o4znEHwozOHIgHoWAllnr</td>\n",
       "      <td>spotify:track:5o4znEHwozOHIgHoWAllnr</td>\n",
       "      <td>https://api.spotify.com/v1/tracks/5o4znEHwozOH...</td>\n",
       "      <td>https://api.spotify.com/v1/audio-analysis/5o4z...</td>\n",
       "      <td>266747</td>\n",
       "      <td>4</td>\n",
       "    </tr>\n",
       "  </tbody>\n",
       "</table>\n",
       "</div>"
      ],
      "text/plain": [
       "   danceability  energy  key  loudness  mode  speechiness  acousticness  \\\n",
       "0         0.699   0.670    1    -6.219     1       0.0347        0.0147   \n",
       "1         0.648   0.718    9    -7.765     0       0.0298        0.1290   \n",
       "2         0.742   0.289    5    -7.833     0       0.1150        0.5430   \n",
       "3         0.698   0.664    7    -7.828     1       0.0778        0.1210   \n",
       "4         0.460   0.314    6   -10.158     0       0.0267        0.6990   \n",
       "\n",
       "   instrumentalness  liveness  valence    tempo            type  \\\n",
       "0          0.220000     0.356    0.556  111.988  audio_features   \n",
       "1          0.001560     0.112    0.785   96.017  audio_features   \n",
       "2          0.000046     0.228    0.710  147.986  audio_features   \n",
       "3          0.001310     0.331    0.623   96.001  audio_features   \n",
       "4          0.000004     0.122    0.216   90.014  audio_features   \n",
       "\n",
       "                       id                                   uri  \\\n",
       "0  32zkKx35Et6A515oZKxDkD  spotify:track:32zkKx35Et6A515oZKxDkD   \n",
       "1  1LPGwuFgIzbJoShfDdw7MY  spotify:track:1LPGwuFgIzbJoShfDdw7MY   \n",
       "2  4vcoNCrTtunmJ9q8srpVly  spotify:track:4vcoNCrTtunmJ9q8srpVly   \n",
       "3  5C5gvDZsl6d8bh89URfKHr  spotify:track:5C5gvDZsl6d8bh89URfKHr   \n",
       "4  5o4znEHwozOHIgHoWAllnr  spotify:track:5o4znEHwozOHIgHoWAllnr   \n",
       "\n",
       "                                          track_href  \\\n",
       "0  https://api.spotify.com/v1/tracks/32zkKx35Et6A...   \n",
       "1  https://api.spotify.com/v1/tracks/1LPGwuFgIzbJ...   \n",
       "2  https://api.spotify.com/v1/tracks/4vcoNCrTtunm...   \n",
       "3  https://api.spotify.com/v1/tracks/5C5gvDZsl6d8...   \n",
       "4  https://api.spotify.com/v1/tracks/5o4znEHwozOH...   \n",
       "\n",
       "                                        analysis_url  duration_ms  \\\n",
       "0  https://api.spotify.com/v1/audio-analysis/32zk...       281407   \n",
       "1  https://api.spotify.com/v1/audio-analysis/1LPG...       230693   \n",
       "2  https://api.spotify.com/v1/audio-analysis/4vco...       243509   \n",
       "3  https://api.spotify.com/v1/audio-analysis/5C5g...       253831   \n",
       "4  https://api.spotify.com/v1/audio-analysis/5o4z...       266747   \n",
       "\n",
       "   time_signature  \n",
       "0               4  \n",
       "1               4  \n",
       "2               4  \n",
       "3               4  \n",
       "4               4  "
      ]
     },
     "execution_count": 91,
     "metadata": {},
     "output_type": "execute_result"
    }
   ],
   "source": [
    "audio_features_df = pd.DataFrame(audio_features)\n",
    "audio_features_df.head()"
   ]
  },
  {
   "cell_type": "markdown",
   "id": "naughty-former",
   "metadata": {},
   "source": [
    "# JOJI - BALLADS1"
   ]
  },
  {
   "cell_type": "code",
   "execution_count": 98,
   "id": "architectural-groove",
   "metadata": {},
   "outputs": [
    {
     "name": "stdout",
     "output_type": "stream",
     "text": [
      "200\n"
     ]
    }
   ],
   "source": [
    "album = get_an_album('34GQP3dILpyCN018y2k61L')"
   ]
  },
  {
   "cell_type": "code",
   "execution_count": 93,
   "id": "fifth-springer",
   "metadata": {},
   "outputs": [
    {
     "data": {
      "text/plain": [
       "dict_keys(['album_type', 'artists', 'available_markets', 'copyrights', 'external_ids', 'external_urls', 'genres', 'href', 'id', 'images', 'label', 'name', 'popularity', 'release_date', 'release_date_precision', 'total_tracks', 'tracks', 'type', 'uri'])"
      ]
     },
     "execution_count": 93,
     "metadata": {},
     "output_type": "execute_result"
    }
   ],
   "source": [
    "album.keys()"
   ]
  },
  {
   "cell_type": "code",
   "execution_count": 94,
   "id": "classified-cigarette",
   "metadata": {},
   "outputs": [
    {
     "data": {
      "text/plain": [
       "'5aqu5xhPqoOWqF71PkfgM8'"
      ]
     },
     "execution_count": 94,
     "metadata": {},
     "output_type": "execute_result"
    }
   ],
   "source": [
    "album['tracks']['items'][0]['id']"
   ]
  },
  {
   "cell_type": "code",
   "execution_count": 95,
   "id": "moving-presentation",
   "metadata": {},
   "outputs": [
    {
     "name": "stdout",
     "output_type": "stream",
     "text": [
      "200\n",
      "200\n",
      "200\n",
      "200\n",
      "200\n",
      "200\n",
      "200\n",
      "200\n",
      "200\n",
      "200\n",
      "200\n",
      "200\n"
     ]
    }
   ],
   "source": [
    "audio_features = [track_audio_features(x['id']) for x in album['tracks']['items']]"
   ]
  },
  {
   "cell_type": "code",
   "execution_count": 96,
   "id": "confident-limitation",
   "metadata": {},
   "outputs": [
    {
     "data": {
      "text/html": [
       "<div>\n",
       "<style scoped>\n",
       "    .dataframe tbody tr th:only-of-type {\n",
       "        vertical-align: middle;\n",
       "    }\n",
       "\n",
       "    .dataframe tbody tr th {\n",
       "        vertical-align: top;\n",
       "    }\n",
       "\n",
       "    .dataframe thead th {\n",
       "        text-align: right;\n",
       "    }\n",
       "</style>\n",
       "<table border=\"1\" class=\"dataframe\">\n",
       "  <thead>\n",
       "    <tr style=\"text-align: right;\">\n",
       "      <th></th>\n",
       "      <th>danceability</th>\n",
       "      <th>energy</th>\n",
       "      <th>key</th>\n",
       "      <th>loudness</th>\n",
       "      <th>mode</th>\n",
       "      <th>speechiness</th>\n",
       "      <th>acousticness</th>\n",
       "      <th>instrumentalness</th>\n",
       "      <th>liveness</th>\n",
       "      <th>valence</th>\n",
       "      <th>tempo</th>\n",
       "      <th>type</th>\n",
       "      <th>id</th>\n",
       "      <th>uri</th>\n",
       "      <th>track_href</th>\n",
       "      <th>analysis_url</th>\n",
       "      <th>duration_ms</th>\n",
       "      <th>time_signature</th>\n",
       "    </tr>\n",
       "  </thead>\n",
       "  <tbody>\n",
       "    <tr>\n",
       "      <th>0</th>\n",
       "      <td>0.787</td>\n",
       "      <td>0.312</td>\n",
       "      <td>7</td>\n",
       "      <td>-12.401</td>\n",
       "      <td>1</td>\n",
       "      <td>0.0383</td>\n",
       "      <td>0.895</td>\n",
       "      <td>0.02240</td>\n",
       "      <td>0.1150</td>\n",
       "      <td>0.425</td>\n",
       "      <td>119.899</td>\n",
       "      <td>audio_features</td>\n",
       "      <td>5aqu5xhPqoOWqF71PkfgM8</td>\n",
       "      <td>spotify:track:5aqu5xhPqoOWqF71PkfgM8</td>\n",
       "      <td>https://api.spotify.com/v1/tracks/5aqu5xhPqoOW...</td>\n",
       "      <td>https://api.spotify.com/v1/audio-analysis/5aqu...</td>\n",
       "      <td>128888</td>\n",
       "      <td>4</td>\n",
       "    </tr>\n",
       "    <tr>\n",
       "      <th>1</th>\n",
       "      <td>0.515</td>\n",
       "      <td>0.479</td>\n",
       "      <td>3</td>\n",
       "      <td>-7.458</td>\n",
       "      <td>1</td>\n",
       "      <td>0.0261</td>\n",
       "      <td>0.544</td>\n",
       "      <td>0.00598</td>\n",
       "      <td>0.1910</td>\n",
       "      <td>0.284</td>\n",
       "      <td>88.964</td>\n",
       "      <td>audio_features</td>\n",
       "      <td>0rKtyWc8bvkriBthvHKY8d</td>\n",
       "      <td>spotify:track:0rKtyWc8bvkriBthvHKY8d</td>\n",
       "      <td>https://api.spotify.com/v1/tracks/0rKtyWc8bvkr...</td>\n",
       "      <td>https://api.spotify.com/v1/audio-analysis/0rKt...</td>\n",
       "      <td>209274</td>\n",
       "      <td>4</td>\n",
       "    </tr>\n",
       "    <tr>\n",
       "      <th>2</th>\n",
       "      <td>0.646</td>\n",
       "      <td>0.648</td>\n",
       "      <td>3</td>\n",
       "      <td>-8.602</td>\n",
       "      <td>1</td>\n",
       "      <td>0.0372</td>\n",
       "      <td>0.710</td>\n",
       "      <td>0.00316</td>\n",
       "      <td>0.1080</td>\n",
       "      <td>0.466</td>\n",
       "      <td>75.004</td>\n",
       "      <td>audio_features</td>\n",
       "      <td>1DMEzmAoQIikcL52psptQL</td>\n",
       "      <td>spotify:track:1DMEzmAoQIikcL52psptQL</td>\n",
       "      <td>https://api.spotify.com/v1/tracks/1DMEzmAoQIik...</td>\n",
       "      <td>https://api.spotify.com/v1/audio-analysis/1DME...</td>\n",
       "      <td>179423</td>\n",
       "      <td>4</td>\n",
       "    </tr>\n",
       "    <tr>\n",
       "      <th>3</th>\n",
       "      <td>0.305</td>\n",
       "      <td>0.715</td>\n",
       "      <td>7</td>\n",
       "      <td>-7.540</td>\n",
       "      <td>1</td>\n",
       "      <td>0.0554</td>\n",
       "      <td>0.105</td>\n",
       "      <td>0.04950</td>\n",
       "      <td>0.0906</td>\n",
       "      <td>0.290</td>\n",
       "      <td>82.977</td>\n",
       "      <td>audio_features</td>\n",
       "      <td>0Y9D1Bc4fAkeZnVsGKdij6</td>\n",
       "      <td>spotify:track:0Y9D1Bc4fAkeZnVsGKdij6</td>\n",
       "      <td>https://api.spotify.com/v1/tracks/0Y9D1Bc4fAke...</td>\n",
       "      <td>https://api.spotify.com/v1/audio-analysis/0Y9D...</td>\n",
       "      <td>251015</td>\n",
       "      <td>4</td>\n",
       "    </tr>\n",
       "    <tr>\n",
       "      <th>4</th>\n",
       "      <td>0.900</td>\n",
       "      <td>0.316</td>\n",
       "      <td>9</td>\n",
       "      <td>-8.797</td>\n",
       "      <td>1</td>\n",
       "      <td>0.3320</td>\n",
       "      <td>0.684</td>\n",
       "      <td>0.07710</td>\n",
       "      <td>0.0853</td>\n",
       "      <td>0.844</td>\n",
       "      <td>129.914</td>\n",
       "      <td>audio_features</td>\n",
       "      <td>39oeKRgsLeynDIbWuXyA47</td>\n",
       "      <td>spotify:track:39oeKRgsLeynDIbWuXyA47</td>\n",
       "      <td>https://api.spotify.com/v1/tracks/39oeKRgsLeyn...</td>\n",
       "      <td>https://api.spotify.com/v1/audio-analysis/39oe...</td>\n",
       "      <td>107077</td>\n",
       "      <td>4</td>\n",
       "    </tr>\n",
       "  </tbody>\n",
       "</table>\n",
       "</div>"
      ],
      "text/plain": [
       "   danceability  energy  key  loudness  mode  speechiness  acousticness  \\\n",
       "0         0.787   0.312    7   -12.401     1       0.0383         0.895   \n",
       "1         0.515   0.479    3    -7.458     1       0.0261         0.544   \n",
       "2         0.646   0.648    3    -8.602     1       0.0372         0.710   \n",
       "3         0.305   0.715    7    -7.540     1       0.0554         0.105   \n",
       "4         0.900   0.316    9    -8.797     1       0.3320         0.684   \n",
       "\n",
       "   instrumentalness  liveness  valence    tempo            type  \\\n",
       "0           0.02240    0.1150    0.425  119.899  audio_features   \n",
       "1           0.00598    0.1910    0.284   88.964  audio_features   \n",
       "2           0.00316    0.1080    0.466   75.004  audio_features   \n",
       "3           0.04950    0.0906    0.290   82.977  audio_features   \n",
       "4           0.07710    0.0853    0.844  129.914  audio_features   \n",
       "\n",
       "                       id                                   uri  \\\n",
       "0  5aqu5xhPqoOWqF71PkfgM8  spotify:track:5aqu5xhPqoOWqF71PkfgM8   \n",
       "1  0rKtyWc8bvkriBthvHKY8d  spotify:track:0rKtyWc8bvkriBthvHKY8d   \n",
       "2  1DMEzmAoQIikcL52psptQL  spotify:track:1DMEzmAoQIikcL52psptQL   \n",
       "3  0Y9D1Bc4fAkeZnVsGKdij6  spotify:track:0Y9D1Bc4fAkeZnVsGKdij6   \n",
       "4  39oeKRgsLeynDIbWuXyA47  spotify:track:39oeKRgsLeynDIbWuXyA47   \n",
       "\n",
       "                                          track_href  \\\n",
       "0  https://api.spotify.com/v1/tracks/5aqu5xhPqoOW...   \n",
       "1  https://api.spotify.com/v1/tracks/0rKtyWc8bvkr...   \n",
       "2  https://api.spotify.com/v1/tracks/1DMEzmAoQIik...   \n",
       "3  https://api.spotify.com/v1/tracks/0Y9D1Bc4fAke...   \n",
       "4  https://api.spotify.com/v1/tracks/39oeKRgsLeyn...   \n",
       "\n",
       "                                        analysis_url  duration_ms  \\\n",
       "0  https://api.spotify.com/v1/audio-analysis/5aqu...       128888   \n",
       "1  https://api.spotify.com/v1/audio-analysis/0rKt...       209274   \n",
       "2  https://api.spotify.com/v1/audio-analysis/1DME...       179423   \n",
       "3  https://api.spotify.com/v1/audio-analysis/0Y9D...       251015   \n",
       "4  https://api.spotify.com/v1/audio-analysis/39oe...       107077   \n",
       "\n",
       "   time_signature  \n",
       "0               4  \n",
       "1               4  \n",
       "2               4  \n",
       "3               4  \n",
       "4               4  "
      ]
     },
     "execution_count": 96,
     "metadata": {},
     "output_type": "execute_result"
    }
   ],
   "source": [
    "audio_features_df = pd.DataFrame(audio_features)\n",
    "audio_features_df.head()"
   ]
  },
  {
   "cell_type": "markdown",
   "id": "tender-colony",
   "metadata": {},
   "source": [
    "# BILLIE EILISH - WHEN WE ALL FALL ASLEEP, WHERE DO WE GO?"
   ]
  },
  {
   "cell_type": "code",
   "execution_count": 99,
   "id": "musical-introduction",
   "metadata": {},
   "outputs": [
    {
     "name": "stdout",
     "output_type": "stream",
     "text": [
      "200\n"
     ]
    }
   ],
   "source": [
    "album = get_an_album('0S0KGZnfBGSIssfF54WSJh')"
   ]
  },
  {
   "cell_type": "code",
   "execution_count": 100,
   "id": "infinite-highway",
   "metadata": {},
   "outputs": [
    {
     "data": {
      "text/plain": [
       "dict_keys(['album_type', 'artists', 'available_markets', 'copyrights', 'external_ids', 'external_urls', 'genres', 'href', 'id', 'images', 'label', 'name', 'popularity', 'release_date', 'release_date_precision', 'total_tracks', 'tracks', 'type', 'uri'])"
      ]
     },
     "execution_count": 100,
     "metadata": {},
     "output_type": "execute_result"
    }
   ],
   "source": [
    "album.keys()"
   ]
  },
  {
   "cell_type": "code",
   "execution_count": 101,
   "id": "animated-dream",
   "metadata": {},
   "outputs": [
    {
     "data": {
      "text/plain": [
       "'0rQtoQXQfwpDW0c7Fw1NeM'"
      ]
     },
     "execution_count": 101,
     "metadata": {},
     "output_type": "execute_result"
    }
   ],
   "source": [
    "album['tracks']['items'][0]['id']"
   ]
  },
  {
   "cell_type": "code",
   "execution_count": 102,
   "id": "oriental-financing",
   "metadata": {},
   "outputs": [
    {
     "name": "stdout",
     "output_type": "stream",
     "text": [
      "200\n",
      "200\n",
      "200\n",
      "200\n",
      "200\n",
      "200\n",
      "200\n",
      "200\n",
      "200\n",
      "200\n",
      "200\n",
      "200\n",
      "200\n",
      "200\n"
     ]
    }
   ],
   "source": [
    "audio_features = [track_audio_features(x['id']) for x in album['tracks']['items']]"
   ]
  },
  {
   "cell_type": "code",
   "execution_count": 103,
   "id": "hybrid-bronze",
   "metadata": {},
   "outputs": [
    {
     "data": {
      "text/html": [
       "<div>\n",
       "<style scoped>\n",
       "    .dataframe tbody tr th:only-of-type {\n",
       "        vertical-align: middle;\n",
       "    }\n",
       "\n",
       "    .dataframe tbody tr th {\n",
       "        vertical-align: top;\n",
       "    }\n",
       "\n",
       "    .dataframe thead th {\n",
       "        text-align: right;\n",
       "    }\n",
       "</style>\n",
       "<table border=\"1\" class=\"dataframe\">\n",
       "  <thead>\n",
       "    <tr style=\"text-align: right;\">\n",
       "      <th></th>\n",
       "      <th>danceability</th>\n",
       "      <th>energy</th>\n",
       "      <th>key</th>\n",
       "      <th>loudness</th>\n",
       "      <th>mode</th>\n",
       "      <th>speechiness</th>\n",
       "      <th>acousticness</th>\n",
       "      <th>instrumentalness</th>\n",
       "      <th>liveness</th>\n",
       "      <th>valence</th>\n",
       "      <th>tempo</th>\n",
       "      <th>type</th>\n",
       "      <th>id</th>\n",
       "      <th>uri</th>\n",
       "      <th>track_href</th>\n",
       "      <th>analysis_url</th>\n",
       "      <th>duration_ms</th>\n",
       "      <th>time_signature</th>\n",
       "    </tr>\n",
       "  </thead>\n",
       "  <tbody>\n",
       "    <tr>\n",
       "      <th>0</th>\n",
       "      <td>0.000</td>\n",
       "      <td>0.278</td>\n",
       "      <td>1</td>\n",
       "      <td>-21.630</td>\n",
       "      <td>1</td>\n",
       "      <td>0.000</td>\n",
       "      <td>0.768</td>\n",
       "      <td>0.00000</td>\n",
       "      <td>0.669</td>\n",
       "      <td>0.0000</td>\n",
       "      <td>0.000</td>\n",
       "      <td>audio_features</td>\n",
       "      <td>0rQtoQXQfwpDW0c7Fw1NeM</td>\n",
       "      <td>spotify:track:0rQtoQXQfwpDW0c7Fw1NeM</td>\n",
       "      <td>https://api.spotify.com/v1/tracks/0rQtoQXQfwpD...</td>\n",
       "      <td>https://api.spotify.com/v1/audio-analysis/0rQt...</td>\n",
       "      <td>13578</td>\n",
       "      <td>0</td>\n",
       "    </tr>\n",
       "    <tr>\n",
       "      <th>1</th>\n",
       "      <td>0.701</td>\n",
       "      <td>0.425</td>\n",
       "      <td>7</td>\n",
       "      <td>-10.965</td>\n",
       "      <td>1</td>\n",
       "      <td>0.375</td>\n",
       "      <td>0.328</td>\n",
       "      <td>0.13000</td>\n",
       "      <td>0.100</td>\n",
       "      <td>0.5620</td>\n",
       "      <td>135.128</td>\n",
       "      <td>audio_features</td>\n",
       "      <td>2Fxmhks0bxGSBdJ92vM42m</td>\n",
       "      <td>spotify:track:2Fxmhks0bxGSBdJ92vM42m</td>\n",
       "      <td>https://api.spotify.com/v1/tracks/2Fxmhks0bxGS...</td>\n",
       "      <td>https://api.spotify.com/v1/audio-analysis/2Fxm...</td>\n",
       "      <td>194088</td>\n",
       "      <td>4</td>\n",
       "    </tr>\n",
       "    <tr>\n",
       "      <th>2</th>\n",
       "      <td>0.521</td>\n",
       "      <td>0.125</td>\n",
       "      <td>9</td>\n",
       "      <td>-17.832</td>\n",
       "      <td>1</td>\n",
       "      <td>0.239</td>\n",
       "      <td>0.751</td>\n",
       "      <td>0.00207</td>\n",
       "      <td>0.265</td>\n",
       "      <td>0.0528</td>\n",
       "      <td>111.554</td>\n",
       "      <td>audio_features</td>\n",
       "      <td>4QIo4oxwzzafcBWkKjDpXY</td>\n",
       "      <td>spotify:track:4QIo4oxwzzafcBWkKjDpXY</td>\n",
       "      <td>https://api.spotify.com/v1/tracks/4QIo4oxwzzaf...</td>\n",
       "      <td>https://api.spotify.com/v1/audio-analysis/4QIo...</td>\n",
       "      <td>243725</td>\n",
       "      <td>4</td>\n",
       "    </tr>\n",
       "    <tr>\n",
       "      <th>3</th>\n",
       "      <td>0.678</td>\n",
       "      <td>0.533</td>\n",
       "      <td>4</td>\n",
       "      <td>-10.485</td>\n",
       "      <td>1</td>\n",
       "      <td>0.186</td>\n",
       "      <td>0.462</td>\n",
       "      <td>0.21900</td>\n",
       "      <td>0.139</td>\n",
       "      <td>0.3230</td>\n",
       "      <td>150.455</td>\n",
       "      <td>audio_features</td>\n",
       "      <td>3XF5xLJHOQQRbWya6hBp7d</td>\n",
       "      <td>spotify:track:3XF5xLJHOQQRbWya6hBp7d</td>\n",
       "      <td>https://api.spotify.com/v1/tracks/3XF5xLJHOQQR...</td>\n",
       "      <td>https://api.spotify.com/v1/audio-analysis/3XF5...</td>\n",
       "      <td>180953</td>\n",
       "      <td>4</td>\n",
       "    </tr>\n",
       "    <tr>\n",
       "      <th>4</th>\n",
       "      <td>0.726</td>\n",
       "      <td>0.444</td>\n",
       "      <td>8</td>\n",
       "      <td>-8.922</td>\n",
       "      <td>0</td>\n",
       "      <td>0.372</td>\n",
       "      <td>0.283</td>\n",
       "      <td>0.14300</td>\n",
       "      <td>0.177</td>\n",
       "      <td>0.5690</td>\n",
       "      <td>185.044</td>\n",
       "      <td>audio_features</td>\n",
       "      <td>6IRdLKIyS4p7XNiP8r6rsx</td>\n",
       "      <td>spotify:track:6IRdLKIyS4p7XNiP8r6rsx</td>\n",
       "      <td>https://api.spotify.com/v1/tracks/6IRdLKIyS4p7...</td>\n",
       "      <td>https://api.spotify.com/v1/audio-analysis/6IRd...</td>\n",
       "      <td>168840</td>\n",
       "      <td>4</td>\n",
       "    </tr>\n",
       "  </tbody>\n",
       "</table>\n",
       "</div>"
      ],
      "text/plain": [
       "   danceability  energy  key  loudness  mode  speechiness  acousticness  \\\n",
       "0         0.000   0.278    1   -21.630     1        0.000         0.768   \n",
       "1         0.701   0.425    7   -10.965     1        0.375         0.328   \n",
       "2         0.521   0.125    9   -17.832     1        0.239         0.751   \n",
       "3         0.678   0.533    4   -10.485     1        0.186         0.462   \n",
       "4         0.726   0.444    8    -8.922     0        0.372         0.283   \n",
       "\n",
       "   instrumentalness  liveness  valence    tempo            type  \\\n",
       "0           0.00000     0.669   0.0000    0.000  audio_features   \n",
       "1           0.13000     0.100   0.5620  135.128  audio_features   \n",
       "2           0.00207     0.265   0.0528  111.554  audio_features   \n",
       "3           0.21900     0.139   0.3230  150.455  audio_features   \n",
       "4           0.14300     0.177   0.5690  185.044  audio_features   \n",
       "\n",
       "                       id                                   uri  \\\n",
       "0  0rQtoQXQfwpDW0c7Fw1NeM  spotify:track:0rQtoQXQfwpDW0c7Fw1NeM   \n",
       "1  2Fxmhks0bxGSBdJ92vM42m  spotify:track:2Fxmhks0bxGSBdJ92vM42m   \n",
       "2  4QIo4oxwzzafcBWkKjDpXY  spotify:track:4QIo4oxwzzafcBWkKjDpXY   \n",
       "3  3XF5xLJHOQQRbWya6hBp7d  spotify:track:3XF5xLJHOQQRbWya6hBp7d   \n",
       "4  6IRdLKIyS4p7XNiP8r6rsx  spotify:track:6IRdLKIyS4p7XNiP8r6rsx   \n",
       "\n",
       "                                          track_href  \\\n",
       "0  https://api.spotify.com/v1/tracks/0rQtoQXQfwpD...   \n",
       "1  https://api.spotify.com/v1/tracks/2Fxmhks0bxGS...   \n",
       "2  https://api.spotify.com/v1/tracks/4QIo4oxwzzaf...   \n",
       "3  https://api.spotify.com/v1/tracks/3XF5xLJHOQQR...   \n",
       "4  https://api.spotify.com/v1/tracks/6IRdLKIyS4p7...   \n",
       "\n",
       "                                        analysis_url  duration_ms  \\\n",
       "0  https://api.spotify.com/v1/audio-analysis/0rQt...        13578   \n",
       "1  https://api.spotify.com/v1/audio-analysis/2Fxm...       194088   \n",
       "2  https://api.spotify.com/v1/audio-analysis/4QIo...       243725   \n",
       "3  https://api.spotify.com/v1/audio-analysis/3XF5...       180953   \n",
       "4  https://api.spotify.com/v1/audio-analysis/6IRd...       168840   \n",
       "\n",
       "   time_signature  \n",
       "0               0  \n",
       "1               4  \n",
       "2               4  \n",
       "3               4  \n",
       "4               4  "
      ]
     },
     "execution_count": 103,
     "metadata": {},
     "output_type": "execute_result"
    }
   ],
   "source": [
    "audio_features_df = pd.DataFrame(audio_features)\n",
    "audio_features_df.head()"
   ]
  },
  {
   "cell_type": "markdown",
   "id": "constitutional-simpson",
   "metadata": {},
   "source": [
    "# KID CUDI - Man On The Moon: The End Of Day"
   ]
  },
  {
   "cell_type": "code",
   "execution_count": 104,
   "id": "touched-haiti",
   "metadata": {},
   "outputs": [
    {
     "name": "stdout",
     "output_type": "stream",
     "text": [
      "200\n"
     ]
    }
   ],
   "source": [
    "album = get_an_album('47y3PbX8oIDCkYAFylCJz0')"
   ]
  },
  {
   "cell_type": "code",
   "execution_count": 105,
   "id": "surrounded-lloyd",
   "metadata": {},
   "outputs": [
    {
     "data": {
      "text/plain": [
       "dict_keys(['album_type', 'artists', 'available_markets', 'copyrights', 'external_ids', 'external_urls', 'genres', 'href', 'id', 'images', 'label', 'name', 'popularity', 'release_date', 'release_date_precision', 'total_tracks', 'tracks', 'type', 'uri'])"
      ]
     },
     "execution_count": 105,
     "metadata": {},
     "output_type": "execute_result"
    }
   ],
   "source": [
    "album.keys()"
   ]
  },
  {
   "cell_type": "code",
   "execution_count": 106,
   "id": "documented-passion",
   "metadata": {},
   "outputs": [
    {
     "data": {
      "text/plain": [
       "'3Xm9jQDd8my7ui5DUtEHYf'"
      ]
     },
     "execution_count": 106,
     "metadata": {},
     "output_type": "execute_result"
    }
   ],
   "source": [
    "album['tracks']['items'][0]['id']"
   ]
  },
  {
   "cell_type": "code",
   "execution_count": 107,
   "id": "incorporated-galaxy",
   "metadata": {},
   "outputs": [
    {
     "name": "stdout",
     "output_type": "stream",
     "text": [
      "200\n",
      "200\n",
      "200\n",
      "200\n",
      "200\n",
      "200\n",
      "200\n",
      "200\n",
      "200\n",
      "200\n",
      "200\n",
      "200\n",
      "200\n",
      "200\n",
      "200\n"
     ]
    }
   ],
   "source": [
    "audio_features = [track_audio_features(x['id']) for x in album['tracks']['items']]"
   ]
  },
  {
   "cell_type": "code",
   "execution_count": 108,
   "id": "generous-estate",
   "metadata": {},
   "outputs": [
    {
     "data": {
      "text/html": [
       "<div>\n",
       "<style scoped>\n",
       "    .dataframe tbody tr th:only-of-type {\n",
       "        vertical-align: middle;\n",
       "    }\n",
       "\n",
       "    .dataframe tbody tr th {\n",
       "        vertical-align: top;\n",
       "    }\n",
       "\n",
       "    .dataframe thead th {\n",
       "        text-align: right;\n",
       "    }\n",
       "</style>\n",
       "<table border=\"1\" class=\"dataframe\">\n",
       "  <thead>\n",
       "    <tr style=\"text-align: right;\">\n",
       "      <th></th>\n",
       "      <th>danceability</th>\n",
       "      <th>energy</th>\n",
       "      <th>key</th>\n",
       "      <th>loudness</th>\n",
       "      <th>mode</th>\n",
       "      <th>speechiness</th>\n",
       "      <th>acousticness</th>\n",
       "      <th>instrumentalness</th>\n",
       "      <th>liveness</th>\n",
       "      <th>valence</th>\n",
       "      <th>tempo</th>\n",
       "      <th>type</th>\n",
       "      <th>id</th>\n",
       "      <th>uri</th>\n",
       "      <th>track_href</th>\n",
       "      <th>analysis_url</th>\n",
       "      <th>duration_ms</th>\n",
       "      <th>time_signature</th>\n",
       "    </tr>\n",
       "  </thead>\n",
       "  <tbody>\n",
       "    <tr>\n",
       "      <th>0</th>\n",
       "      <td>0.650</td>\n",
       "      <td>0.417</td>\n",
       "      <td>2</td>\n",
       "      <td>-12.413</td>\n",
       "      <td>0</td>\n",
       "      <td>0.0574</td>\n",
       "      <td>0.286</td>\n",
       "      <td>0.000033</td>\n",
       "      <td>0.1040</td>\n",
       "      <td>0.475</td>\n",
       "      <td>98.415</td>\n",
       "      <td>audio_features</td>\n",
       "      <td>3Xm9jQDd8my7ui5DUtEHYf</td>\n",
       "      <td>spotify:track:3Xm9jQDd8my7ui5DUtEHYf</td>\n",
       "      <td>https://api.spotify.com/v1/tracks/3Xm9jQDd8my7...</td>\n",
       "      <td>https://api.spotify.com/v1/audio-analysis/3Xm9...</td>\n",
       "      <td>199000</td>\n",
       "      <td>4</td>\n",
       "    </tr>\n",
       "    <tr>\n",
       "      <th>1</th>\n",
       "      <td>0.464</td>\n",
       "      <td>0.754</td>\n",
       "      <td>9</td>\n",
       "      <td>-6.653</td>\n",
       "      <td>0</td>\n",
       "      <td>0.1280</td>\n",
       "      <td>0.465</td>\n",
       "      <td>0.000016</td>\n",
       "      <td>0.3700</td>\n",
       "      <td>0.444</td>\n",
       "      <td>86.501</td>\n",
       "      <td>audio_features</td>\n",
       "      <td>1cdC9TCqyLwAlsw3fVJaJS</td>\n",
       "      <td>spotify:track:1cdC9TCqyLwAlsw3fVJaJS</td>\n",
       "      <td>https://api.spotify.com/v1/tracks/1cdC9TCqyLwA...</td>\n",
       "      <td>https://api.spotify.com/v1/audio-analysis/1cdC...</td>\n",
       "      <td>235627</td>\n",
       "      <td>4</td>\n",
       "    </tr>\n",
       "    <tr>\n",
       "      <th>2</th>\n",
       "      <td>0.802</td>\n",
       "      <td>0.742</td>\n",
       "      <td>1</td>\n",
       "      <td>-4.607</td>\n",
       "      <td>1</td>\n",
       "      <td>0.1110</td>\n",
       "      <td>0.265</td>\n",
       "      <td>0.000287</td>\n",
       "      <td>0.6300</td>\n",
       "      <td>0.512</td>\n",
       "      <td>95.000</td>\n",
       "      <td>audio_features</td>\n",
       "      <td>77fcAXl6MsFPtFJG45zTUE</td>\n",
       "      <td>spotify:track:77fcAXl6MsFPtFJG45zTUE</td>\n",
       "      <td>https://api.spotify.com/v1/tracks/77fcAXl6MsFP...</td>\n",
       "      <td>https://api.spotify.com/v1/audio-analysis/77fc...</td>\n",
       "      <td>151333</td>\n",
       "      <td>4</td>\n",
       "    </tr>\n",
       "    <tr>\n",
       "      <th>3</th>\n",
       "      <td>0.768</td>\n",
       "      <td>0.449</td>\n",
       "      <td>7</td>\n",
       "      <td>-7.569</td>\n",
       "      <td>0</td>\n",
       "      <td>0.0290</td>\n",
       "      <td>0.518</td>\n",
       "      <td>0.000463</td>\n",
       "      <td>0.1360</td>\n",
       "      <td>0.614</td>\n",
       "      <td>79.120</td>\n",
       "      <td>audio_features</td>\n",
       "      <td>2EHEQx2avP1fNBLJf5UGYy</td>\n",
       "      <td>spotify:track:2EHEQx2avP1fNBLJf5UGYy</td>\n",
       "      <td>https://api.spotify.com/v1/tracks/2EHEQx2avP1f...</td>\n",
       "      <td>https://api.spotify.com/v1/audio-analysis/2EHE...</td>\n",
       "      <td>266307</td>\n",
       "      <td>4</td>\n",
       "    </tr>\n",
       "    <tr>\n",
       "      <th>4</th>\n",
       "      <td>0.723</td>\n",
       "      <td>0.452</td>\n",
       "      <td>11</td>\n",
       "      <td>-9.420</td>\n",
       "      <td>0</td>\n",
       "      <td>0.0328</td>\n",
       "      <td>0.308</td>\n",
       "      <td>0.006400</td>\n",
       "      <td>0.0923</td>\n",
       "      <td>0.375</td>\n",
       "      <td>125.015</td>\n",
       "      <td>audio_features</td>\n",
       "      <td>246SdvVYT3yrZPXU7NSWwy</td>\n",
       "      <td>spotify:track:246SdvVYT3yrZPXU7NSWwy</td>\n",
       "      <td>https://api.spotify.com/v1/tracks/246SdvVYT3yr...</td>\n",
       "      <td>https://api.spotify.com/v1/audio-analysis/246S...</td>\n",
       "      <td>261360</td>\n",
       "      <td>4</td>\n",
       "    </tr>\n",
       "  </tbody>\n",
       "</table>\n",
       "</div>"
      ],
      "text/plain": [
       "   danceability  energy  key  loudness  mode  speechiness  acousticness  \\\n",
       "0         0.650   0.417    2   -12.413     0       0.0574         0.286   \n",
       "1         0.464   0.754    9    -6.653     0       0.1280         0.465   \n",
       "2         0.802   0.742    1    -4.607     1       0.1110         0.265   \n",
       "3         0.768   0.449    7    -7.569     0       0.0290         0.518   \n",
       "4         0.723   0.452   11    -9.420     0       0.0328         0.308   \n",
       "\n",
       "   instrumentalness  liveness  valence    tempo            type  \\\n",
       "0          0.000033    0.1040    0.475   98.415  audio_features   \n",
       "1          0.000016    0.3700    0.444   86.501  audio_features   \n",
       "2          0.000287    0.6300    0.512   95.000  audio_features   \n",
       "3          0.000463    0.1360    0.614   79.120  audio_features   \n",
       "4          0.006400    0.0923    0.375  125.015  audio_features   \n",
       "\n",
       "                       id                                   uri  \\\n",
       "0  3Xm9jQDd8my7ui5DUtEHYf  spotify:track:3Xm9jQDd8my7ui5DUtEHYf   \n",
       "1  1cdC9TCqyLwAlsw3fVJaJS  spotify:track:1cdC9TCqyLwAlsw3fVJaJS   \n",
       "2  77fcAXl6MsFPtFJG45zTUE  spotify:track:77fcAXl6MsFPtFJG45zTUE   \n",
       "3  2EHEQx2avP1fNBLJf5UGYy  spotify:track:2EHEQx2avP1fNBLJf5UGYy   \n",
       "4  246SdvVYT3yrZPXU7NSWwy  spotify:track:246SdvVYT3yrZPXU7NSWwy   \n",
       "\n",
       "                                          track_href  \\\n",
       "0  https://api.spotify.com/v1/tracks/3Xm9jQDd8my7...   \n",
       "1  https://api.spotify.com/v1/tracks/1cdC9TCqyLwA...   \n",
       "2  https://api.spotify.com/v1/tracks/77fcAXl6MsFP...   \n",
       "3  https://api.spotify.com/v1/tracks/2EHEQx2avP1f...   \n",
       "4  https://api.spotify.com/v1/tracks/246SdvVYT3yr...   \n",
       "\n",
       "                                        analysis_url  duration_ms  \\\n",
       "0  https://api.spotify.com/v1/audio-analysis/3Xm9...       199000   \n",
       "1  https://api.spotify.com/v1/audio-analysis/1cdC...       235627   \n",
       "2  https://api.spotify.com/v1/audio-analysis/77fc...       151333   \n",
       "3  https://api.spotify.com/v1/audio-analysis/2EHE...       266307   \n",
       "4  https://api.spotify.com/v1/audio-analysis/246S...       261360   \n",
       "\n",
       "   time_signature  \n",
       "0               4  \n",
       "1               4  \n",
       "2               4  \n",
       "3               4  \n",
       "4               4  "
      ]
     },
     "execution_count": 108,
     "metadata": {},
     "output_type": "execute_result"
    }
   ],
   "source": [
    "audio_features_df = pd.DataFrame(audio_features)\n",
    "audio_features_df.head()"
   ]
  },
  {
   "cell_type": "markdown",
   "id": "green-vitamin",
   "metadata": {},
   "source": [
    "# KID CUDI - Passion, Pain & Demon Slayin'"
   ]
  },
  {
   "cell_type": "code",
   "execution_count": 109,
   "id": "divine-assumption",
   "metadata": {},
   "outputs": [
    {
     "name": "stdout",
     "output_type": "stream",
     "text": [
      "200\n"
     ]
    }
   ],
   "source": [
    "album = get_an_album('5bCk3kWAy2JbbTfHqzZCII')"
   ]
  },
  {
   "cell_type": "code",
   "execution_count": 110,
   "id": "julian-sunset",
   "metadata": {},
   "outputs": [
    {
     "data": {
      "text/plain": [
       "dict_keys(['album_type', 'artists', 'available_markets', 'copyrights', 'external_ids', 'external_urls', 'genres', 'href', 'id', 'images', 'label', 'name', 'popularity', 'release_date', 'release_date_precision', 'total_tracks', 'tracks', 'type', 'uri'])"
      ]
     },
     "execution_count": 110,
     "metadata": {},
     "output_type": "execute_result"
    }
   ],
   "source": [
    "album.keys()"
   ]
  },
  {
   "cell_type": "code",
   "execution_count": 111,
   "id": "ultimate-jesus",
   "metadata": {},
   "outputs": [
    {
     "data": {
      "text/plain": [
       "'0O6jl8Zamz6TGF0nUwMQsF'"
      ]
     },
     "execution_count": 111,
     "metadata": {},
     "output_type": "execute_result"
    }
   ],
   "source": [
    "album['tracks']['items'][0]['id']"
   ]
  },
  {
   "cell_type": "code",
   "execution_count": 112,
   "id": "presidential-denial",
   "metadata": {},
   "outputs": [
    {
     "name": "stdout",
     "output_type": "stream",
     "text": [
      "200\n",
      "200\n",
      "200\n",
      "200\n",
      "200\n",
      "200\n",
      "200\n",
      "200\n",
      "200\n",
      "200\n",
      "200\n",
      "200\n",
      "200\n",
      "200\n",
      "200\n",
      "200\n",
      "200\n",
      "200\n",
      "200\n"
     ]
    }
   ],
   "source": [
    "audio_features = [track_audio_features(x['id']) for x in album['tracks']['items']]"
   ]
  },
  {
   "cell_type": "code",
   "execution_count": 113,
   "id": "saving-valley",
   "metadata": {},
   "outputs": [
    {
     "data": {
      "text/html": [
       "<div>\n",
       "<style scoped>\n",
       "    .dataframe tbody tr th:only-of-type {\n",
       "        vertical-align: middle;\n",
       "    }\n",
       "\n",
       "    .dataframe tbody tr th {\n",
       "        vertical-align: top;\n",
       "    }\n",
       "\n",
       "    .dataframe thead th {\n",
       "        text-align: right;\n",
       "    }\n",
       "</style>\n",
       "<table border=\"1\" class=\"dataframe\">\n",
       "  <thead>\n",
       "    <tr style=\"text-align: right;\">\n",
       "      <th></th>\n",
       "      <th>danceability</th>\n",
       "      <th>energy</th>\n",
       "      <th>key</th>\n",
       "      <th>loudness</th>\n",
       "      <th>mode</th>\n",
       "      <th>speechiness</th>\n",
       "      <th>acousticness</th>\n",
       "      <th>instrumentalness</th>\n",
       "      <th>liveness</th>\n",
       "      <th>valence</th>\n",
       "      <th>tempo</th>\n",
       "      <th>type</th>\n",
       "      <th>id</th>\n",
       "      <th>uri</th>\n",
       "      <th>track_href</th>\n",
       "      <th>analysis_url</th>\n",
       "      <th>duration_ms</th>\n",
       "      <th>time_signature</th>\n",
       "    </tr>\n",
       "  </thead>\n",
       "  <tbody>\n",
       "    <tr>\n",
       "      <th>0</th>\n",
       "      <td>0.791</td>\n",
       "      <td>0.577</td>\n",
       "      <td>1</td>\n",
       "      <td>-6.555</td>\n",
       "      <td>1</td>\n",
       "      <td>0.0367</td>\n",
       "      <td>0.4980</td>\n",
       "      <td>0.470000</td>\n",
       "      <td>0.120</td>\n",
       "      <td>0.217</td>\n",
       "      <td>115.070</td>\n",
       "      <td>audio_features</td>\n",
       "      <td>0O6jl8Zamz6TGF0nUwMQsF</td>\n",
       "      <td>spotify:track:0O6jl8Zamz6TGF0nUwMQsF</td>\n",
       "      <td>https://api.spotify.com/v1/tracks/0O6jl8Zamz6T...</td>\n",
       "      <td>https://api.spotify.com/v1/audio-analysis/0O6j...</td>\n",
       "      <td>298240</td>\n",
       "      <td>4</td>\n",
       "    </tr>\n",
       "    <tr>\n",
       "      <th>1</th>\n",
       "      <td>0.357</td>\n",
       "      <td>0.377</td>\n",
       "      <td>2</td>\n",
       "      <td>-10.723</td>\n",
       "      <td>1</td>\n",
       "      <td>0.0428</td>\n",
       "      <td>0.6100</td>\n",
       "      <td>0.371000</td>\n",
       "      <td>0.110</td>\n",
       "      <td>0.116</td>\n",
       "      <td>165.208</td>\n",
       "      <td>audio_features</td>\n",
       "      <td>5cjsgbZ8tZYD4f0LNpApnf</td>\n",
       "      <td>spotify:track:5cjsgbZ8tZYD4f0LNpApnf</td>\n",
       "      <td>https://api.spotify.com/v1/tracks/5cjsgbZ8tZYD...</td>\n",
       "      <td>https://api.spotify.com/v1/audio-analysis/5cjs...</td>\n",
       "      <td>269227</td>\n",
       "      <td>3</td>\n",
       "    </tr>\n",
       "    <tr>\n",
       "      <th>2</th>\n",
       "      <td>0.595</td>\n",
       "      <td>0.442</td>\n",
       "      <td>7</td>\n",
       "      <td>-11.115</td>\n",
       "      <td>0</td>\n",
       "      <td>0.0289</td>\n",
       "      <td>0.1160</td>\n",
       "      <td>0.770000</td>\n",
       "      <td>0.114</td>\n",
       "      <td>0.134</td>\n",
       "      <td>81.992</td>\n",
       "      <td>audio_features</td>\n",
       "      <td>5Tm9At0xeFb0MtlV8uI3eY</td>\n",
       "      <td>spotify:track:5Tm9At0xeFb0MtlV8uI3eY</td>\n",
       "      <td>https://api.spotify.com/v1/tracks/5Tm9At0xeFb0...</td>\n",
       "      <td>https://api.spotify.com/v1/audio-analysis/5Tm9...</td>\n",
       "      <td>327973</td>\n",
       "      <td>4</td>\n",
       "    </tr>\n",
       "    <tr>\n",
       "      <th>3</th>\n",
       "      <td>0.756</td>\n",
       "      <td>0.850</td>\n",
       "      <td>9</td>\n",
       "      <td>-5.885</td>\n",
       "      <td>0</td>\n",
       "      <td>0.0538</td>\n",
       "      <td>0.0559</td>\n",
       "      <td>0.000809</td>\n",
       "      <td>0.111</td>\n",
       "      <td>0.415</td>\n",
       "      <td>100.005</td>\n",
       "      <td>audio_features</td>\n",
       "      <td>5FxVTEpoBress37MmlMhbZ</td>\n",
       "      <td>spotify:track:5FxVTEpoBress37MmlMhbZ</td>\n",
       "      <td>https://api.spotify.com/v1/tracks/5FxVTEpoBres...</td>\n",
       "      <td>https://api.spotify.com/v1/audio-analysis/5FxV...</td>\n",
       "      <td>257053</td>\n",
       "      <td>4</td>\n",
       "    </tr>\n",
       "    <tr>\n",
       "      <th>4</th>\n",
       "      <td>0.661</td>\n",
       "      <td>0.596</td>\n",
       "      <td>9</td>\n",
       "      <td>-8.176</td>\n",
       "      <td>0</td>\n",
       "      <td>0.0801</td>\n",
       "      <td>0.0391</td>\n",
       "      <td>0.331000</td>\n",
       "      <td>0.943</td>\n",
       "      <td>0.538</td>\n",
       "      <td>154.017</td>\n",
       "      <td>audio_features</td>\n",
       "      <td>4HMhDkyOObFngSAz2xeQhK</td>\n",
       "      <td>spotify:track:4HMhDkyOObFngSAz2xeQhK</td>\n",
       "      <td>https://api.spotify.com/v1/tracks/4HMhDkyOObFn...</td>\n",
       "      <td>https://api.spotify.com/v1/audio-analysis/4HMh...</td>\n",
       "      <td>250587</td>\n",
       "      <td>4</td>\n",
       "    </tr>\n",
       "  </tbody>\n",
       "</table>\n",
       "</div>"
      ],
      "text/plain": [
       "   danceability  energy  key  loudness  mode  speechiness  acousticness  \\\n",
       "0         0.791   0.577    1    -6.555     1       0.0367        0.4980   \n",
       "1         0.357   0.377    2   -10.723     1       0.0428        0.6100   \n",
       "2         0.595   0.442    7   -11.115     0       0.0289        0.1160   \n",
       "3         0.756   0.850    9    -5.885     0       0.0538        0.0559   \n",
       "4         0.661   0.596    9    -8.176     0       0.0801        0.0391   \n",
       "\n",
       "   instrumentalness  liveness  valence    tempo            type  \\\n",
       "0          0.470000     0.120    0.217  115.070  audio_features   \n",
       "1          0.371000     0.110    0.116  165.208  audio_features   \n",
       "2          0.770000     0.114    0.134   81.992  audio_features   \n",
       "3          0.000809     0.111    0.415  100.005  audio_features   \n",
       "4          0.331000     0.943    0.538  154.017  audio_features   \n",
       "\n",
       "                       id                                   uri  \\\n",
       "0  0O6jl8Zamz6TGF0nUwMQsF  spotify:track:0O6jl8Zamz6TGF0nUwMQsF   \n",
       "1  5cjsgbZ8tZYD4f0LNpApnf  spotify:track:5cjsgbZ8tZYD4f0LNpApnf   \n",
       "2  5Tm9At0xeFb0MtlV8uI3eY  spotify:track:5Tm9At0xeFb0MtlV8uI3eY   \n",
       "3  5FxVTEpoBress37MmlMhbZ  spotify:track:5FxVTEpoBress37MmlMhbZ   \n",
       "4  4HMhDkyOObFngSAz2xeQhK  spotify:track:4HMhDkyOObFngSAz2xeQhK   \n",
       "\n",
       "                                          track_href  \\\n",
       "0  https://api.spotify.com/v1/tracks/0O6jl8Zamz6T...   \n",
       "1  https://api.spotify.com/v1/tracks/5cjsgbZ8tZYD...   \n",
       "2  https://api.spotify.com/v1/tracks/5Tm9At0xeFb0...   \n",
       "3  https://api.spotify.com/v1/tracks/5FxVTEpoBres...   \n",
       "4  https://api.spotify.com/v1/tracks/4HMhDkyOObFn...   \n",
       "\n",
       "                                        analysis_url  duration_ms  \\\n",
       "0  https://api.spotify.com/v1/audio-analysis/0O6j...       298240   \n",
       "1  https://api.spotify.com/v1/audio-analysis/5cjs...       269227   \n",
       "2  https://api.spotify.com/v1/audio-analysis/5Tm9...       327973   \n",
       "3  https://api.spotify.com/v1/audio-analysis/5FxV...       257053   \n",
       "4  https://api.spotify.com/v1/audio-analysis/4HMh...       250587   \n",
       "\n",
       "   time_signature  \n",
       "0               4  \n",
       "1               3  \n",
       "2               4  \n",
       "3               4  \n",
       "4               4  "
      ]
     },
     "execution_count": 113,
     "metadata": {},
     "output_type": "execute_result"
    }
   ],
   "source": [
    "audio_features_df = pd.DataFrame(audio_features)\n",
    "audio_features_df.head()"
   ]
  },
  {
   "cell_type": "markdown",
   "id": "cooperative-grocery",
   "metadata": {},
   "source": [
    "# TAME IMPALA - Currents"
   ]
  },
  {
   "cell_type": "code",
   "execution_count": 114,
   "id": "passive-spanish",
   "metadata": {},
   "outputs": [
    {
     "name": "stdout",
     "output_type": "stream",
     "text": [
      "200\n"
     ]
    }
   ],
   "source": [
    "album = get_an_album('79dL7FLiJFOO0EoehUHQBv')"
   ]
  },
  {
   "cell_type": "code",
   "execution_count": 115,
   "id": "express-sector",
   "metadata": {},
   "outputs": [
    {
     "data": {
      "text/plain": [
       "dict_keys(['album_type', 'artists', 'available_markets', 'copyrights', 'external_ids', 'external_urls', 'genres', 'href', 'id', 'images', 'label', 'name', 'popularity', 'release_date', 'release_date_precision', 'total_tracks', 'tracks', 'type', 'uri'])"
      ]
     },
     "execution_count": 115,
     "metadata": {},
     "output_type": "execute_result"
    }
   ],
   "source": [
    "album.keys()"
   ]
  },
  {
   "cell_type": "code",
   "execution_count": 116,
   "id": "acting-farming",
   "metadata": {},
   "outputs": [
    {
     "data": {
      "text/plain": [
       "'2X485T9Z5Ly0xyaghN73ed'"
      ]
     },
     "execution_count": 116,
     "metadata": {},
     "output_type": "execute_result"
    }
   ],
   "source": [
    "album['tracks']['items'][0]['id']"
   ]
  },
  {
   "cell_type": "code",
   "execution_count": 117,
   "id": "distinct-parker",
   "metadata": {},
   "outputs": [
    {
     "name": "stdout",
     "output_type": "stream",
     "text": [
      "200\n",
      "200\n",
      "200\n",
      "200\n",
      "200\n",
      "200\n",
      "200\n",
      "200\n",
      "200\n",
      "200\n",
      "200\n",
      "200\n",
      "200\n"
     ]
    }
   ],
   "source": [
    "audio_features = [track_audio_features(x['id']) for x in album['tracks']['items']]"
   ]
  },
  {
   "cell_type": "code",
   "execution_count": 118,
   "id": "composite-anxiety",
   "metadata": {},
   "outputs": [
    {
     "data": {
      "text/html": [
       "<div>\n",
       "<style scoped>\n",
       "    .dataframe tbody tr th:only-of-type {\n",
       "        vertical-align: middle;\n",
       "    }\n",
       "\n",
       "    .dataframe tbody tr th {\n",
       "        vertical-align: top;\n",
       "    }\n",
       "\n",
       "    .dataframe thead th {\n",
       "        text-align: right;\n",
       "    }\n",
       "</style>\n",
       "<table border=\"1\" class=\"dataframe\">\n",
       "  <thead>\n",
       "    <tr style=\"text-align: right;\">\n",
       "      <th></th>\n",
       "      <th>danceability</th>\n",
       "      <th>energy</th>\n",
       "      <th>key</th>\n",
       "      <th>loudness</th>\n",
       "      <th>mode</th>\n",
       "      <th>speechiness</th>\n",
       "      <th>acousticness</th>\n",
       "      <th>instrumentalness</th>\n",
       "      <th>liveness</th>\n",
       "      <th>valence</th>\n",
       "      <th>tempo</th>\n",
       "      <th>type</th>\n",
       "      <th>id</th>\n",
       "      <th>uri</th>\n",
       "      <th>track_href</th>\n",
       "      <th>analysis_url</th>\n",
       "      <th>duration_ms</th>\n",
       "      <th>time_signature</th>\n",
       "    </tr>\n",
       "  </thead>\n",
       "  <tbody>\n",
       "    <tr>\n",
       "      <th>0</th>\n",
       "      <td>0.602</td>\n",
       "      <td>0.881</td>\n",
       "      <td>1</td>\n",
       "      <td>-5.875</td>\n",
       "      <td>0</td>\n",
       "      <td>0.0443</td>\n",
       "      <td>0.004620</td>\n",
       "      <td>0.026600</td>\n",
       "      <td>0.1110</td>\n",
       "      <td>0.577</td>\n",
       "      <td>125.012</td>\n",
       "      <td>audio_features</td>\n",
       "      <td>2X485T9Z5Ly0xyaghN73ed</td>\n",
       "      <td>spotify:track:2X485T9Z5Ly0xyaghN73ed</td>\n",
       "      <td>https://api.spotify.com/v1/tracks/2X485T9Z5Ly0...</td>\n",
       "      <td>https://api.spotify.com/v1/audio-analysis/2X48...</td>\n",
       "      <td>467587</td>\n",
       "      <td>4</td>\n",
       "    </tr>\n",
       "    <tr>\n",
       "      <th>1</th>\n",
       "      <td>0.536</td>\n",
       "      <td>0.526</td>\n",
       "      <td>0</td>\n",
       "      <td>-9.754</td>\n",
       "      <td>1</td>\n",
       "      <td>0.1810</td>\n",
       "      <td>0.159000</td>\n",
       "      <td>0.847000</td>\n",
       "      <td>0.1280</td>\n",
       "      <td>0.434</td>\n",
       "      <td>167.608</td>\n",
       "      <td>audio_features</td>\n",
       "      <td>1cCbsojaA6GIT7Y3zuMJ1q</td>\n",
       "      <td>spotify:track:1cCbsojaA6GIT7Y3zuMJ1q</td>\n",
       "      <td>https://api.spotify.com/v1/tracks/1cCbsojaA6GI...</td>\n",
       "      <td>https://api.spotify.com/v1/audio-analysis/1cCb...</td>\n",
       "      <td>107533</td>\n",
       "      <td>4</td>\n",
       "    </tr>\n",
       "    <tr>\n",
       "      <th>2</th>\n",
       "      <td>0.547</td>\n",
       "      <td>0.827</td>\n",
       "      <td>7</td>\n",
       "      <td>-6.036</td>\n",
       "      <td>1</td>\n",
       "      <td>0.0468</td>\n",
       "      <td>0.000296</td>\n",
       "      <td>0.101000</td>\n",
       "      <td>0.0858</td>\n",
       "      <td>0.451</td>\n",
       "      <td>119.089</td>\n",
       "      <td>audio_features</td>\n",
       "      <td>1UYj8qTWjneZJDVjUMwMub</td>\n",
       "      <td>spotify:track:1UYj8qTWjneZJDVjUMwMub</td>\n",
       "      <td>https://api.spotify.com/v1/tracks/1UYj8qTWjneZ...</td>\n",
       "      <td>https://api.spotify.com/v1/audio-analysis/1UYj...</td>\n",
       "      <td>255413</td>\n",
       "      <td>4</td>\n",
       "    </tr>\n",
       "    <tr>\n",
       "      <th>3</th>\n",
       "      <td>0.373</td>\n",
       "      <td>0.609</td>\n",
       "      <td>0</td>\n",
       "      <td>-7.000</td>\n",
       "      <td>1</td>\n",
       "      <td>0.0316</td>\n",
       "      <td>0.108000</td>\n",
       "      <td>0.000427</td>\n",
       "      <td>0.0755</td>\n",
       "      <td>0.354</td>\n",
       "      <td>179.955</td>\n",
       "      <td>audio_features</td>\n",
       "      <td>0xtIp0lgccN85GfGOekS5L</td>\n",
       "      <td>spotify:track:0xtIp0lgccN85GfGOekS5L</td>\n",
       "      <td>https://api.spotify.com/v1/tracks/0xtIp0lgccN8...</td>\n",
       "      <td>https://api.spotify.com/v1/audio-analysis/0xtI...</td>\n",
       "      <td>270680</td>\n",
       "      <td>4</td>\n",
       "    </tr>\n",
       "    <tr>\n",
       "      <th>4</th>\n",
       "      <td>0.424</td>\n",
       "      <td>0.615</td>\n",
       "      <td>9</td>\n",
       "      <td>-6.217</td>\n",
       "      <td>0</td>\n",
       "      <td>0.0325</td>\n",
       "      <td>0.015800</td>\n",
       "      <td>0.000389</td>\n",
       "      <td>0.0844</td>\n",
       "      <td>0.155</td>\n",
       "      <td>77.935</td>\n",
       "      <td>audio_features</td>\n",
       "      <td>5M4yti0QxgqJieUYaEXcpw</td>\n",
       "      <td>spotify:track:5M4yti0QxgqJieUYaEXcpw</td>\n",
       "      <td>https://api.spotify.com/v1/tracks/5M4yti0QxgqJ...</td>\n",
       "      <td>https://api.spotify.com/v1/audio-analysis/5M4y...</td>\n",
       "      <td>318591</td>\n",
       "      <td>4</td>\n",
       "    </tr>\n",
       "  </tbody>\n",
       "</table>\n",
       "</div>"
      ],
      "text/plain": [
       "   danceability  energy  key  loudness  mode  speechiness  acousticness  \\\n",
       "0         0.602   0.881    1    -5.875     0       0.0443      0.004620   \n",
       "1         0.536   0.526    0    -9.754     1       0.1810      0.159000   \n",
       "2         0.547   0.827    7    -6.036     1       0.0468      0.000296   \n",
       "3         0.373   0.609    0    -7.000     1       0.0316      0.108000   \n",
       "4         0.424   0.615    9    -6.217     0       0.0325      0.015800   \n",
       "\n",
       "   instrumentalness  liveness  valence    tempo            type  \\\n",
       "0          0.026600    0.1110    0.577  125.012  audio_features   \n",
       "1          0.847000    0.1280    0.434  167.608  audio_features   \n",
       "2          0.101000    0.0858    0.451  119.089  audio_features   \n",
       "3          0.000427    0.0755    0.354  179.955  audio_features   \n",
       "4          0.000389    0.0844    0.155   77.935  audio_features   \n",
       "\n",
       "                       id                                   uri  \\\n",
       "0  2X485T9Z5Ly0xyaghN73ed  spotify:track:2X485T9Z5Ly0xyaghN73ed   \n",
       "1  1cCbsojaA6GIT7Y3zuMJ1q  spotify:track:1cCbsojaA6GIT7Y3zuMJ1q   \n",
       "2  1UYj8qTWjneZJDVjUMwMub  spotify:track:1UYj8qTWjneZJDVjUMwMub   \n",
       "3  0xtIp0lgccN85GfGOekS5L  spotify:track:0xtIp0lgccN85GfGOekS5L   \n",
       "4  5M4yti0QxgqJieUYaEXcpw  spotify:track:5M4yti0QxgqJieUYaEXcpw   \n",
       "\n",
       "                                          track_href  \\\n",
       "0  https://api.spotify.com/v1/tracks/2X485T9Z5Ly0...   \n",
       "1  https://api.spotify.com/v1/tracks/1cCbsojaA6GI...   \n",
       "2  https://api.spotify.com/v1/tracks/1UYj8qTWjneZ...   \n",
       "3  https://api.spotify.com/v1/tracks/0xtIp0lgccN8...   \n",
       "4  https://api.spotify.com/v1/tracks/5M4yti0QxgqJ...   \n",
       "\n",
       "                                        analysis_url  duration_ms  \\\n",
       "0  https://api.spotify.com/v1/audio-analysis/2X48...       467587   \n",
       "1  https://api.spotify.com/v1/audio-analysis/1cCb...       107533   \n",
       "2  https://api.spotify.com/v1/audio-analysis/1UYj...       255413   \n",
       "3  https://api.spotify.com/v1/audio-analysis/0xtI...       270680   \n",
       "4  https://api.spotify.com/v1/audio-analysis/5M4y...       318591   \n",
       "\n",
       "   time_signature  \n",
       "0               4  \n",
       "1               4  \n",
       "2               4  \n",
       "3               4  \n",
       "4               4  "
      ]
     },
     "execution_count": 118,
     "metadata": {},
     "output_type": "execute_result"
    }
   ],
   "source": [
    "audio_features_df = pd.DataFrame(audio_features)\n",
    "audio_features_df.head()"
   ]
  },
  {
   "cell_type": "markdown",
   "id": "labeled-equilibrium",
   "metadata": {},
   "source": [
    "# MAC MILLER - Swimming"
   ]
  },
  {
   "cell_type": "code",
   "execution_count": 119,
   "id": "instructional-morocco",
   "metadata": {},
   "outputs": [
    {
     "name": "stdout",
     "output_type": "stream",
     "text": [
      "200\n"
     ]
    }
   ],
   "source": [
    "album = get_an_album('5wtE5aLX5r7jOosmPhJhhk')"
   ]
  },
  {
   "cell_type": "code",
   "execution_count": 120,
   "id": "developed-buying",
   "metadata": {},
   "outputs": [
    {
     "data": {
      "text/plain": [
       "dict_keys(['album_type', 'artists', 'available_markets', 'copyrights', 'external_ids', 'external_urls', 'genres', 'href', 'id', 'images', 'label', 'name', 'popularity', 'release_date', 'release_date_precision', 'total_tracks', 'tracks', 'type', 'uri'])"
      ]
     },
     "execution_count": 120,
     "metadata": {},
     "output_type": "execute_result"
    }
   ],
   "source": [
    "album.keys()"
   ]
  },
  {
   "cell_type": "code",
   "execution_count": 121,
   "id": "judicial-education",
   "metadata": {},
   "outputs": [
    {
     "data": {
      "text/plain": [
       "'01z2fBGB8Hl3Jd3zXe4IXR'"
      ]
     },
     "execution_count": 121,
     "metadata": {},
     "output_type": "execute_result"
    }
   ],
   "source": [
    "album['tracks']['items'][0]['id']"
   ]
  },
  {
   "cell_type": "code",
   "execution_count": 122,
   "id": "geological-courage",
   "metadata": {},
   "outputs": [
    {
     "name": "stdout",
     "output_type": "stream",
     "text": [
      "200\n",
      "200\n",
      "200\n",
      "200\n",
      "200\n",
      "200\n",
      "200\n",
      "200\n",
      "200\n",
      "200\n",
      "200\n",
      "200\n",
      "200\n"
     ]
    }
   ],
   "source": [
    "audio_features = [track_audio_features(x['id']) for x in album['tracks']['items']]"
   ]
  },
  {
   "cell_type": "code",
   "execution_count": 123,
   "id": "legislative-electron",
   "metadata": {},
   "outputs": [
    {
     "data": {
      "text/html": [
       "<div>\n",
       "<style scoped>\n",
       "    .dataframe tbody tr th:only-of-type {\n",
       "        vertical-align: middle;\n",
       "    }\n",
       "\n",
       "    .dataframe tbody tr th {\n",
       "        vertical-align: top;\n",
       "    }\n",
       "\n",
       "    .dataframe thead th {\n",
       "        text-align: right;\n",
       "    }\n",
       "</style>\n",
       "<table border=\"1\" class=\"dataframe\">\n",
       "  <thead>\n",
       "    <tr style=\"text-align: right;\">\n",
       "      <th></th>\n",
       "      <th>danceability</th>\n",
       "      <th>energy</th>\n",
       "      <th>key</th>\n",
       "      <th>loudness</th>\n",
       "      <th>mode</th>\n",
       "      <th>speechiness</th>\n",
       "      <th>acousticness</th>\n",
       "      <th>instrumentalness</th>\n",
       "      <th>liveness</th>\n",
       "      <th>valence</th>\n",
       "      <th>tempo</th>\n",
       "      <th>type</th>\n",
       "      <th>id</th>\n",
       "      <th>uri</th>\n",
       "      <th>track_href</th>\n",
       "      <th>analysis_url</th>\n",
       "      <th>duration_ms</th>\n",
       "      <th>time_signature</th>\n",
       "    </tr>\n",
       "  </thead>\n",
       "  <tbody>\n",
       "    <tr>\n",
       "      <th>0</th>\n",
       "      <td>0.272</td>\n",
       "      <td>0.238</td>\n",
       "      <td>2</td>\n",
       "      <td>-12.148</td>\n",
       "      <td>0</td>\n",
       "      <td>0.0349</td>\n",
       "      <td>0.890</td>\n",
       "      <td>0.00925</td>\n",
       "      <td>0.275</td>\n",
       "      <td>0.119</td>\n",
       "      <td>83.507</td>\n",
       "      <td>audio_features</td>\n",
       "      <td>01z2fBGB8Hl3Jd3zXe4IXR</td>\n",
       "      <td>spotify:track:01z2fBGB8Hl3Jd3zXe4IXR</td>\n",
       "      <td>https://api.spotify.com/v1/tracks/01z2fBGB8Hl3...</td>\n",
       "      <td>https://api.spotify.com/v1/audio-analysis/01z2...</td>\n",
       "      <td>161840</td>\n",
       "      <td>4</td>\n",
       "    </tr>\n",
       "    <tr>\n",
       "      <th>1</th>\n",
       "      <td>0.690</td>\n",
       "      <td>0.462</td>\n",
       "      <td>8</td>\n",
       "      <td>-8.054</td>\n",
       "      <td>1</td>\n",
       "      <td>0.1300</td>\n",
       "      <td>0.343</td>\n",
       "      <td>0.00218</td>\n",
       "      <td>0.113</td>\n",
       "      <td>0.325</td>\n",
       "      <td>157.655</td>\n",
       "      <td>audio_features</td>\n",
       "      <td>5p7GiBZNL1afJJDUrOA6C8</td>\n",
       "      <td>spotify:track:5p7GiBZNL1afJJDUrOA6C8</td>\n",
       "      <td>https://api.spotify.com/v1/tracks/5p7GiBZNL1af...</td>\n",
       "      <td>https://api.spotify.com/v1/audio-analysis/5p7G...</td>\n",
       "      <td>245640</td>\n",
       "      <td>4</td>\n",
       "    </tr>\n",
       "    <tr>\n",
       "      <th>2</th>\n",
       "      <td>0.759</td>\n",
       "      <td>0.492</td>\n",
       "      <td>1</td>\n",
       "      <td>-10.338</td>\n",
       "      <td>0</td>\n",
       "      <td>0.1200</td>\n",
       "      <td>0.736</td>\n",
       "      <td>0.00989</td>\n",
       "      <td>0.107</td>\n",
       "      <td>0.561</td>\n",
       "      <td>104.974</td>\n",
       "      <td>audio_features</td>\n",
       "      <td>2dgrYdgguVZKeCsrVb9XEs</td>\n",
       "      <td>spotify:track:2dgrYdgguVZKeCsrVb9XEs</td>\n",
       "      <td>https://api.spotify.com/v1/tracks/2dgrYdgguVZK...</td>\n",
       "      <td>https://api.spotify.com/v1/audio-analysis/2dgr...</td>\n",
       "      <td>288640</td>\n",
       "      <td>4</td>\n",
       "    </tr>\n",
       "    <tr>\n",
       "      <th>3</th>\n",
       "      <td>0.599</td>\n",
       "      <td>0.317</td>\n",
       "      <td>1</td>\n",
       "      <td>-11.212</td>\n",
       "      <td>1</td>\n",
       "      <td>0.1740</td>\n",
       "      <td>0.748</td>\n",
       "      <td>0.00000</td>\n",
       "      <td>0.111</td>\n",
       "      <td>0.203</td>\n",
       "      <td>148.090</td>\n",
       "      <td>audio_features</td>\n",
       "      <td>0Xcy81PsJCOO6mhLZaQyQ4</td>\n",
       "      <td>spotify:track:0Xcy81PsJCOO6mhLZaQyQ4</td>\n",
       "      <td>https://api.spotify.com/v1/tracks/0Xcy81PsJCOO...</td>\n",
       "      <td>https://api.spotify.com/v1/audio-analysis/0Xcy...</td>\n",
       "      <td>215413</td>\n",
       "      <td>4</td>\n",
       "    </tr>\n",
       "    <tr>\n",
       "      <th>4</th>\n",
       "      <td>0.520</td>\n",
       "      <td>0.538</td>\n",
       "      <td>1</td>\n",
       "      <td>-8.109</td>\n",
       "      <td>1</td>\n",
       "      <td>0.2060</td>\n",
       "      <td>0.367</td>\n",
       "      <td>0.00187</td>\n",
       "      <td>0.119</td>\n",
       "      <td>0.177</td>\n",
       "      <td>141.894</td>\n",
       "      <td>audio_features</td>\n",
       "      <td>5bJ1DrEM4hNCafcDd1oxHx</td>\n",
       "      <td>spotify:track:5bJ1DrEM4hNCafcDd1oxHx</td>\n",
       "      <td>https://api.spotify.com/v1/tracks/5bJ1DrEM4hNC...</td>\n",
       "      <td>https://api.spotify.com/v1/audio-analysis/5bJ1...</td>\n",
       "      <td>345133</td>\n",
       "      <td>4</td>\n",
       "    </tr>\n",
       "  </tbody>\n",
       "</table>\n",
       "</div>"
      ],
      "text/plain": [
       "   danceability  energy  key  loudness  mode  speechiness  acousticness  \\\n",
       "0         0.272   0.238    2   -12.148     0       0.0349         0.890   \n",
       "1         0.690   0.462    8    -8.054     1       0.1300         0.343   \n",
       "2         0.759   0.492    1   -10.338     0       0.1200         0.736   \n",
       "3         0.599   0.317    1   -11.212     1       0.1740         0.748   \n",
       "4         0.520   0.538    1    -8.109     1       0.2060         0.367   \n",
       "\n",
       "   instrumentalness  liveness  valence    tempo            type  \\\n",
       "0           0.00925     0.275    0.119   83.507  audio_features   \n",
       "1           0.00218     0.113    0.325  157.655  audio_features   \n",
       "2           0.00989     0.107    0.561  104.974  audio_features   \n",
       "3           0.00000     0.111    0.203  148.090  audio_features   \n",
       "4           0.00187     0.119    0.177  141.894  audio_features   \n",
       "\n",
       "                       id                                   uri  \\\n",
       "0  01z2fBGB8Hl3Jd3zXe4IXR  spotify:track:01z2fBGB8Hl3Jd3zXe4IXR   \n",
       "1  5p7GiBZNL1afJJDUrOA6C8  spotify:track:5p7GiBZNL1afJJDUrOA6C8   \n",
       "2  2dgrYdgguVZKeCsrVb9XEs  spotify:track:2dgrYdgguVZKeCsrVb9XEs   \n",
       "3  0Xcy81PsJCOO6mhLZaQyQ4  spotify:track:0Xcy81PsJCOO6mhLZaQyQ4   \n",
       "4  5bJ1DrEM4hNCafcDd1oxHx  spotify:track:5bJ1DrEM4hNCafcDd1oxHx   \n",
       "\n",
       "                                          track_href  \\\n",
       "0  https://api.spotify.com/v1/tracks/01z2fBGB8Hl3...   \n",
       "1  https://api.spotify.com/v1/tracks/5p7GiBZNL1af...   \n",
       "2  https://api.spotify.com/v1/tracks/2dgrYdgguVZK...   \n",
       "3  https://api.spotify.com/v1/tracks/0Xcy81PsJCOO...   \n",
       "4  https://api.spotify.com/v1/tracks/5bJ1DrEM4hNC...   \n",
       "\n",
       "                                        analysis_url  duration_ms  \\\n",
       "0  https://api.spotify.com/v1/audio-analysis/01z2...       161840   \n",
       "1  https://api.spotify.com/v1/audio-analysis/5p7G...       245640   \n",
       "2  https://api.spotify.com/v1/audio-analysis/2dgr...       288640   \n",
       "3  https://api.spotify.com/v1/audio-analysis/0Xcy...       215413   \n",
       "4  https://api.spotify.com/v1/audio-analysis/5bJ1...       345133   \n",
       "\n",
       "   time_signature  \n",
       "0               4  \n",
       "1               4  \n",
       "2               4  \n",
       "3               4  \n",
       "4               4  "
      ]
     },
     "execution_count": 123,
     "metadata": {},
     "output_type": "execute_result"
    }
   ],
   "source": [
    "audio_features_df = pd.DataFrame(audio_features)\n",
    "audio_features_df.head()"
   ]
  }
 ],
 "metadata": {
  "kernelspec": {
   "display_name": "Python 3",
   "language": "python",
   "name": "python3"
  },
  "language_info": {
   "codemirror_mode": {
    "name": "ipython",
    "version": 3
   },
   "file_extension": ".py",
   "mimetype": "text/x-python",
   "name": "python",
   "nbconvert_exporter": "python",
   "pygments_lexer": "ipython3",
   "version": "3.9.1"
  }
 },
 "nbformat": 4,
 "nbformat_minor": 5
}
